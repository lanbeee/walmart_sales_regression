{
 "cells": [
  {
   "cell_type": "code",
   "execution_count": 55,
   "metadata": {},
   "outputs": [],
   "source": [
    "import pandas as pd\n",
    "import numpy as np\n",
    "from collections import Counter\n",
    "import matplotlib.pyplot as plt\n",
    "from sklearn import preprocessing\n",
    "from keras import layers, models, optimizers\n",
    "from sklearn.svm import SVR\n",
    "from sklearn.metrics import mean_absolute_error\n",
    "from scipy.interpolate import interp1d"
   ]
  },
  {
   "cell_type": "code",
   "execution_count": 2,
   "metadata": {},
   "outputs": [],
   "source": [
    "def nanscaler(seri):\n",
    "    temp_list = []\n",
    "    series_mean = seri.mean()\n",
    "    series_std = seri.std()\n",
    "    for i in seri:\n",
    "        if np.isnan(i):\n",
    "            temp_list.append(0)\n",
    "        else :\n",
    "            temp_list.append((i - series_mean)/series_std)\n",
    "    return series_mean, series_std, temp_list \n",
    "\n",
    "def nanscaler_test(s_mean,s_std,seri):\n",
    "    temp_list = []\n",
    "    for i in seri:\n",
    "        if np.isnan(i):\n",
    "            temp_list.append(0)\n",
    "        else :\n",
    "            temp_list.append((i - s_mean)/s_std)\n",
    "    return temp_list"
   ]
  },
  {
   "cell_type": "code",
   "execution_count": 97,
   "metadata": {},
   "outputs": [],
   "source": [
    "df = pd.read_csv('trainMerged.csv')\n",
    "test_df = pd.read_csv('testMerged.csv')\n",
    "df['Date'] = pd.to_datetime(df.Date)\n",
    "test_df['Date'] = pd.to_datetime(test_df.Date)\n",
    "df['IsHoliday'] = df.IsHoliday.astype('int')\n",
    "test_df['IsHoliday'] = test_df.IsHoliday.astype('int')\n",
    "MarkDowns = ['MarkDown1','MarkDown2','MarkDown3','MarkDown4','MarkDown5']\n",
    "for i in MarkDowns:\n",
    "    s_mean,s_std, df[i] = nanscaler(df[i])\n",
    "    test_df[i] = nanscaler_test(s_mean,s_std,test_df[i])"
   ]
  },
  {
   "cell_type": "code",
   "execution_count": 98,
   "metadata": {},
   "outputs": [],
   "source": [
    "df['Day_of_year'] = [i.dayofyear for i in df.Date]\n",
    "test_df['Day_of_year'] = [i.dayofyear for i in test_df.Date]\n",
    "df['Year'] = [i.year for i in df.Date]"
   ]
  },
  {
   "cell_type": "code",
   "execution_count": 99,
   "metadata": {},
   "outputs": [],
   "source": [
    "doy = []\n",
    "for i,d in enumerate(df.Day_of_year):\n",
    "    j = d\n",
    "    if df['Year'][i] == 2012:\n",
    "        if d > 60:\n",
    "            j -= 1\n",
    "    doy.append(j)\n",
    "df['Day_of_year'] = doy\n",
    "df.drop(['Year'],axis=1,inplace=True)\n",
    "tempp = test_df.Date - pd.to_datetime('2010-01-01')\n",
    "test_df['total_days'] = [i.total_seconds()/86400 for i in tempp]\n",
    "tempp = df.Date - pd.to_datetime('2010-01-01')\n",
    "df['total_days'] = [i.total_seconds()/86400 for i in tempp]\n",
    "test_df['CPI'] = test_df.groupby('Store')['CPI'].transform(lambda x : x.fillna(x.mean()))\n",
    "test_df['Unemployment'] = test_df.groupby('Store')['Unemployment'].transform(lambda x : x.fillna(x.mean()))"
   ]
  },
  {
   "cell_type": "code",
   "execution_count": 100,
   "metadata": {},
   "outputs": [],
   "source": [
    "zero_1_scaler = preprocessing.MinMaxScaler(feature_range=(0,1))\n"
   ]
  },
  {
   "cell_type": "code",
   "execution_count": 101,
   "metadata": {},
   "outputs": [],
   "source": [
    "#['Store', 'Date', 'IsHoliday', 'Dept', 'Weekly_Sales', 'Type', 'Size',\n",
    "#'Temperature', 'Fuel_Price', 'MarkDown1', 'MarkDown2', 'MarkDown3',\n",
    "#'MarkDown4', 'MarkDown5', 'CPI', 'Unemployment', 'Day_of_year']\n",
    "num_cols = ['Size', 'Temperature', 'Fuel_Price','CPI' ,'Unemployment','Day_of_year']\n",
    "num_df = df[num_cols]\n",
    "num_df_test = test_df[num_cols]\n",
    "cat_df = pd.get_dummies(df[['Store','Dept','Type']].astype('str'))\n",
    "cat_df_test = pd.get_dummies(test_df[['Store','Dept','Type']].astype('str'))\n",
    "zero_1_scaler.fit(num_df)\n",
    "num_df = pd.DataFrame(zero_1_scaler.transform(num_df),columns=num_df.columns)\n",
    "num_df_test = pd.DataFrame(zero_1_scaler.transform(num_df_test),columns=num_df_test.columns)"
   ]
  },
  {
   "cell_type": "code",
   "execution_count": 102,
   "metadata": {},
   "outputs": [
    {
     "name": "stderr",
     "output_type": "stream",
     "text": [
      "C:\\ProgramData\\Anaconda3\\lib\\site-packages\\ipykernel_launcher.py:3: SettingWithCopyWarning: \n",
      "A value is trying to be set on a copy of a slice from a DataFrame\n",
      "\n",
      "See the caveats in the documentation: http://pandas.pydata.org/pandas-docs/stable/indexing.html#indexing-view-versus-copy\n",
      "  This is separate from the ipykernel package so we can avoid doing imports until\n"
     ]
    }
   ],
   "source": [
    "df_1 = pd.concat([num_df,cat_df,df['Dept'],df['Weekly_Sales']],axis= 1)\n",
    "test_1 = pd.concat([num_df_test,cat_df_test,test_df['Dept']], axis=1)\n",
    "test_1['Day_of_year'][test_1.Day_of_year< 0] = 0"
   ]
  },
  {
   "cell_type": "code",
   "execution_count": 103,
   "metadata": {},
   "outputs": [],
   "source": [
    "aa = df_1.groupby('Dept')"
   ]
  },
  {
   "cell_type": "code",
   "execution_count": 104,
   "metadata": {},
   "outputs": [],
   "source": [
    "grp_dep_doy = dict()\n",
    "for i, j in aa:\n",
    "    grp_dep_doy[i] = j.groupby('Day_of_year')['Weekly_Sales'].mean()\n",
    "grp_dep_doy = pd.DataFrame(grp_dep_doy)\n",
    "grp_dep_doy.sort_index(inplace=True)\n",
    "grp_dep_doy.fillna(0 ,inplace= True)"
   ]
  },
  {
   "cell_type": "code",
   "execution_count": 105,
   "metadata": {
    "scrolled": true
   },
   "outputs": [],
   "source": [
    "def get_sales_mean(doy, dep):\n",
    "    f = interp1d(grp_dep_doy.index, grp_dep_doy[dep])\n",
    "    return f(doy)"
   ]
  },
  {
   "cell_type": "code",
   "execution_count": 106,
   "metadata": {},
   "outputs": [],
   "source": [
    "tes_mean_sales = []\n",
    "for dep, doy in zip(test_1.Dept, test_1.Day_of_year):\n",
    "    tes_mean_sales.append(get_sales_mean(doy,dep))"
   ]
  },
  {
   "cell_type": "code",
   "execution_count": 107,
   "metadata": {},
   "outputs": [
    {
     "data": {
      "text/plain": [
       "0"
      ]
     },
     "execution_count": 107,
     "metadata": {},
     "output_type": "execute_result"
    }
   ],
   "source": [
    "test_1['Mean_Sales'] = tes_mean_sales\n",
    "test_1['Mean_Sales'].isnull().sum()"
   ]
  },
  {
   "cell_type": "code",
   "execution_count": 108,
   "metadata": {},
   "outputs": [],
   "source": [
    "tr_mean_sales = []\n",
    "for dep, doy in zip(df_1.Dept, df_1.Day_of_year):\n",
    "    tr_mean_sales.append(grp_dep_doy[dep][doy])\n",
    "df_1['Mean_Sales'] = tr_mean_sales"
   ]
  },
  {
   "cell_type": "code",
   "execution_count": 114,
   "metadata": {},
   "outputs": [
    {
     "name": "stdout",
     "output_type": "stream",
     "text": [
      "Index(['Size', 'Temperature', 'Fuel_Price', 'CPI', 'Unemployment',\n",
      "       'Day_of_year', 'Store_1', 'Store_10', 'Store_11', 'Store_12',\n",
      "       'Store_13', 'Store_14', 'Store_15', 'Store_16', 'Store_17', 'Store_18',\n",
      "       'Store_19', 'Store_2', 'Store_20', 'Store_21', 'Store_22', 'Store_23',\n",
      "       'Store_24', 'Store_25', 'Store_26', 'Store_27', 'Store_28', 'Store_29',\n",
      "       'Store_3', 'Store_30', 'Store_31', 'Store_32', 'Store_33', 'Store_34',\n",
      "       'Store_35', 'Store_36', 'Store_37', 'Store_38', 'Store_39', 'Store_4',\n",
      "       'Store_40', 'Store_41', 'Store_42', 'Store_43', 'Store_44', 'Store_45',\n",
      "       'Store_5', 'Store_6', 'Store_7', 'Store_8', 'Store_9', 'Dept_1',\n",
      "       'Dept_10', 'Dept_11', 'Dept_12', 'Dept_13', 'Dept_14', 'Dept_16',\n",
      "       'Dept_17', 'Dept_18', 'Dept_19', 'Dept_2', 'Dept_20', 'Dept_21',\n",
      "       'Dept_22', 'Dept_23', 'Dept_24', 'Dept_25', 'Dept_26', 'Dept_27'],\n",
      "      dtype='object')\n",
      "Index(['Dept_28', 'Dept_29', 'Dept_3', 'Dept_30', 'Dept_31', 'Dept_32',\n",
      "       'Dept_33', 'Dept_34', 'Dept_35', 'Dept_36', 'Dept_37', 'Dept_38',\n",
      "       'Dept_39', 'Dept_4', 'Dept_40', 'Dept_41', 'Dept_42', 'Dept_43',\n",
      "       'Dept_44', 'Dept_45', 'Dept_46', 'Dept_47', 'Dept_48', 'Dept_49',\n",
      "       'Dept_5', 'Dept_50', 'Dept_51', 'Dept_52', 'Dept_54', 'Dept_55',\n",
      "       'Dept_56', 'Dept_58', 'Dept_59', 'Dept_6', 'Dept_60', 'Dept_65',\n",
      "       'Dept_67', 'Dept_7', 'Dept_71', 'Dept_72', 'Dept_74', 'Dept_77',\n",
      "       'Dept_78', 'Dept_79', 'Dept_8', 'Dept_80', 'Dept_81', 'Dept_82',\n",
      "       'Dept_83', 'Dept_85', 'Dept_87', 'Dept_9', 'Dept_90', 'Dept_91',\n",
      "       'Dept_92', 'Dept_93', 'Dept_94', 'Dept_95', 'Dept_96', 'Dept_97',\n",
      "       'Dept_98', 'Dept_99', 'Type_A', 'Type_B', 'Type_C', 'Dept',\n",
      "       'Weekly_Sales', 'Mean_Sales'],\n",
      "      dtype='object')\n"
     ]
    }
   ],
   "source": [
    "print(df_1.columns[:70])\n",
    "print(df_1.columns[70:])\n",
    "# df_1 = df_1[['Size', 'Temperature', 'Fuel_Price', 'CPI', 'Unemployment',\n",
    "#        'Day_of_year', 'Store_1', 'Store_10', 'Store_11', 'Store_12',\n",
    "#        'Store_13', 'Store_14', 'Store_15', 'Store_16', 'Store_17', 'Store_18',\n",
    "#        'Store_19', 'Store_2', 'Store_20', 'Store_21', 'Store_22', 'Store_23',\n",
    "#        'Store_24', 'Store_25', 'Store_26', 'Store_27', 'Store_28', 'Store_29',\n",
    "#        'Store_3', 'Store_30', 'Store_31', 'Store_32', 'Store_33', 'Store_34',\n",
    "#        'Store_35', 'Store_36', 'Store_37', 'Store_38', 'Store_39', 'Store_4',\n",
    "#        'Store_40', 'Store_41', 'Store_42', 'Store_43', 'Store_44', 'Store_45',\n",
    "#        'Store_5', 'Store_6', 'Store_7', 'Store_8', 'Store_9', 'Type_A',\n",
    "#        'Type_B', 'Type_C','Mean_Sales', 'Dept', 'Weekly_Sales'\n",
    "#        ]]\n",
    "# test_1 = test_1[['Size', 'Temperature', 'Fuel_Price', 'CPI', 'Unemployment',\n",
    "#        'Day_of_year', 'Store_1', 'Store_10', 'Store_11', 'Store_12',\n",
    "#        'Store_13', 'Store_14', 'Store_15', 'Store_16', 'Store_17', 'Store_18',\n",
    "#        'Store_19', 'Store_2', 'Store_20', 'Store_21', 'Store_22', 'Store_23',\n",
    "#        'Store_24', 'Store_25', 'Store_26', 'Store_27', 'Store_28', 'Store_29',\n",
    "#        'Store_3', 'Store_30', 'Store_31', 'Store_32', 'Store_33', 'Store_34',\n",
    "#        'Store_35', 'Store_36', 'Store_37', 'Store_38', 'Store_39', 'Store_4',\n",
    "#        'Store_40', 'Store_41', 'Store_42', 'Store_43', 'Store_44', 'Store_45',\n",
    "#        'Store_5', 'Store_6', 'Store_7', 'Store_8', 'Store_9', 'Type_A',\n",
    "#        'Type_B', 'Type_C','Mean_Sales', 'Dept',\n",
    "#        ]]"
   ]
  },
  {
   "cell_type": "code",
   "execution_count": 9,
   "metadata": {},
   "outputs": [],
   "source": [
    "# aa1 = df_1.values\n",
    "# np.random.shuffle(aa1)\n",
    "# tr_1 = aa1[:400000,:-1]\n",
    "# lbl_1 = aa1[:400000,-1]\n",
    "# val_1 = aa1[400000:,:-1]\n",
    "# val_lbl_1 = aa1[400000:,-1]\n",
    "aa = df_1.groupby('Dept')\n",
    "bb = test_1.groupby('Dept')\n",
    "departments = df.Dept.unique()\n",
    "X_train = dict()\n",
    "X_test = dict()\n",
    "X_val = dict()\n",
    "y_train = dict()\n",
    "y_val = dict()\n",
    "# for dep in departments:\n",
    "#     gr_df = aa.get_group(dep).values\n",
    "#     np.random.shuffle(inds)\n",
    "    "
   ]
  },
  {
   "cell_type": "code",
   "execution_count": 9,
   "metadata": {},
   "outputs": [
    {
     "data": {
      "text/plain": [
       "(6435, 56)"
      ]
     },
     "execution_count": 9,
     "metadata": {},
     "output_type": "execute_result"
    }
   ],
   "source": [
    "aa.get_group(1).shape"
   ]
  },
  {
   "cell_type": "code",
   "execution_count": 10,
   "metadata": {},
   "outputs": [],
   "source": [
    "ffd = aa.get_group(1).values\n",
    "np.random.shuffle(ffd)\n",
    "X_tr = ffd[:,:-2]\n",
    "y_tr = ffd[:,-1]\n",
    "X_v = ffd[-700:,:-2]\n",
    "y_v = ffd[-700:,-1]"
   ]
  },
  {
   "cell_type": "code",
   "execution_count": 28,
   "metadata": {},
   "outputs": [
    {
     "data": {
      "text/plain": [
       "count    421570.000000\n",
       "mean     136727.915739\n",
       "std       60980.583328\n",
       "min       34875.000000\n",
       "25%       93638.000000\n",
       "50%      140167.000000\n",
       "75%      202505.000000\n",
       "max      219622.000000\n",
       "Name: Size, dtype: float64"
      ]
     },
     "execution_count": 28,
     "metadata": {},
     "output_type": "execute_result"
    }
   ],
   "source": [
    "dep1 = aa.get_group(1)\n",
    "df.Size.describe()"
   ]
  },
  {
   "cell_type": "code",
   "execution_count": 52,
   "metadata": {},
   "outputs": [],
   "source": [
    "from sklearn.model_selection import GridSearchCV\n",
    "regressor = SVR()\n",
    "params = {'C':[1,100,.01],'gamma':[.001,.01,1]}\n",
    "gs = GridSearchCV(regressor,param_grid = params, scoring = 'neg_mean_squared_error')"
   ]
  },
  {
   "cell_type": "code",
   "execution_count": 53,
   "metadata": {
    "scrolled": true
   },
   "outputs": [
    {
     "data": {
      "text/plain": [
       "GridSearchCV(cv=None, error_score='raise',\n",
       "       estimator=SVR(C=1.0, cache_size=200, coef0=0.0, degree=3, epsilon=0.1, gamma='auto',\n",
       "  kernel='rbf', max_iter=-1, shrinking=True, tol=0.001, verbose=False),\n",
       "       fit_params=None, iid=True, n_jobs=1,\n",
       "       param_grid={'C': [1, 100, 0.01], 'gamma': [0.001, 0.01, 1]},\n",
       "       pre_dispatch='2*n_jobs', refit=True, return_train_score='warn',\n",
       "       scoring='neg_mean_squared_error', verbose=0)"
      ]
     },
     "execution_count": 53,
     "metadata": {},
     "output_type": "execute_result"
    }
   ],
   "source": [
    "gs.fit(X_tr,y_tr)"
   ]
  },
  {
   "cell_type": "code",
   "execution_count": 56,
   "metadata": {},
   "outputs": [
    {
     "data": {
      "text/plain": [
       "(6435, 54)"
      ]
     },
     "execution_count": 56,
     "metadata": {},
     "output_type": "execute_result"
    }
   ],
   "source": [
    "X_tr.shape"
   ]
  },
  {
   "cell_type": "code",
   "execution_count": 54,
   "metadata": {},
   "outputs": [
    {
     "data": {
      "text/plain": [
       "5379.795305754263"
      ]
     },
     "execution_count": 54,
     "metadata": {},
     "output_type": "execute_result"
    }
   ],
   "source": [
    "mean_absolute_error(y_v, gs.best_estimator_.predict(X_v))"
   ]
  },
  {
   "cell_type": "code",
   "execution_count": null,
   "metadata": {},
   "outputs": [],
   "source": [
    "model1 = models.Sequential()\n",
    "model1.add(layers.Dense(128,activation='relu',input_shape = (54,)))\n",
    "model1.add(layers.Dense(128, activation='relu'))\n",
    "model1.add(layers.Dense(128,activation= 'relu'))\n",
    "model1.add(layers.Dense(128,activation= 'relu'))\n",
    "model1.add(layers.Dense(1))\n",
    "model1.compile(loss='mse', optimizer='Adam', metrics=['acc'])"
   ]
  },
  {
   "cell_type": "code",
   "execution_count": null,
   "metadata": {},
   "outputs": [],
   "source": [
    "# model1.summary()\n",
    "model1.fit(X_tr,y_tr,epochs= 500, validation_split=0.1)"
   ]
  },
  {
   "cell_type": "code",
   "execution_count": null,
   "metadata": {},
   "outputs": [],
   "source": []
  },
  {
   "cell_type": "code",
   "execution_count": null,
   "metadata": {},
   "outputs": [],
   "source": []
  },
  {
   "cell_type": "code",
   "execution_count": null,
   "metadata": {},
   "outputs": [],
   "source": []
  },
  {
   "cell_type": "code",
   "execution_count": null,
   "metadata": {},
   "outputs": [],
   "source": [
    "stores = df.Store.unique()\n",
    "dept_no = 7\n",
    "for store_no in stores:\n",
    "    bb = aa.get_group(store_no)\n",
    "    bb = bb[bb.Dept==dept_no]\n",
    "    bb.index = range(len(bb))\n",
    "    bb = np.split(bb, bb[bb.round_days.diff()<0].index, axis = 0)\n",
    "    for i in bb:\n",
    "        plt.plot(i.round_days,i.Weekly_Sales/(i.Weekly_Sales.mean()))"
   ]
  },
  {
   "cell_type": "code",
   "execution_count": 16,
   "metadata": {},
   "outputs": [],
   "source": []
  },
  {
   "cell_type": "code",
   "execution_count": 40,
   "metadata": {},
   "outputs": [
    {
     "ename": "AttributeError",
     "evalue": "Cannot access attribute 'index' of 'DataFrameGroupBy' objects, try using the 'apply' method",
     "output_type": "error",
     "traceback": [
      "\u001b[1;31m---------------------------------------------------------------------------\u001b[0m",
      "\u001b[1;31mAttributeError\u001b[0m                            Traceback (most recent call last)",
      "\u001b[1;32m<ipython-input-40-be70fbee1ba3>\u001b[0m in \u001b[0;36m<module>\u001b[1;34m()\u001b[0m\n\u001b[1;32m----> 1\u001b[1;33m \u001b[0maa\u001b[0m\u001b[1;33m[\u001b[0m\u001b[1;34m'Store'\u001b[0m\u001b[1;33m]\u001b[0m \u001b[1;33m=\u001b[0m \u001b[0mdf\u001b[0m\u001b[1;33m.\u001b[0m\u001b[0miloc\u001b[0m\u001b[1;33m[\u001b[0m\u001b[0maa\u001b[0m\u001b[1;33m.\u001b[0m\u001b[0mindex\u001b[0m\u001b[1;33m]\u001b[0m\u001b[1;33m.\u001b[0m\u001b[0mStore\u001b[0m\u001b[1;33m\u001b[0m\u001b[0m\n\u001b[0m\u001b[0;32m      2\u001b[0m \u001b[0mmean_sales_doy\u001b[0m \u001b[1;33m=\u001b[0m \u001b[0maa\u001b[0m\u001b[1;33m.\u001b[0m\u001b[0mgroupby\u001b[0m\u001b[1;33m(\u001b[0m\u001b[1;33m[\u001b[0m\u001b[1;34m'Day_of_year, Dept'\u001b[0m\u001b[1;33m]\u001b[0m\u001b[1;33m)\u001b[0m\u001b[1;33m\u001b[0m\u001b[0m\n",
      "\u001b[1;32mC:\\ProgramData\\Anaconda3\\lib\\site-packages\\pandas\\core\\groupby\\groupby.py\u001b[0m in \u001b[0;36m__getattr__\u001b[1;34m(self, attr)\u001b[0m\n\u001b[0;32m    760\u001b[0m             \u001b[1;32mreturn\u001b[0m \u001b[0mself\u001b[0m\u001b[1;33m[\u001b[0m\u001b[0mattr\u001b[0m\u001b[1;33m]\u001b[0m\u001b[1;33m\u001b[0m\u001b[0m\n\u001b[0;32m    761\u001b[0m         \u001b[1;32mif\u001b[0m \u001b[0mhasattr\u001b[0m\u001b[1;33m(\u001b[0m\u001b[0mself\u001b[0m\u001b[1;33m.\u001b[0m\u001b[0mobj\u001b[0m\u001b[1;33m,\u001b[0m \u001b[0mattr\u001b[0m\u001b[1;33m)\u001b[0m\u001b[1;33m:\u001b[0m\u001b[1;33m\u001b[0m\u001b[0m\n\u001b[1;32m--> 762\u001b[1;33m             \u001b[1;32mreturn\u001b[0m \u001b[0mself\u001b[0m\u001b[1;33m.\u001b[0m\u001b[0m_make_wrapper\u001b[0m\u001b[1;33m(\u001b[0m\u001b[0mattr\u001b[0m\u001b[1;33m)\u001b[0m\u001b[1;33m\u001b[0m\u001b[0m\n\u001b[0m\u001b[0;32m    763\u001b[0m \u001b[1;33m\u001b[0m\u001b[0m\n\u001b[0;32m    764\u001b[0m         raise AttributeError(\"%r object has no attribute %r\" %\n",
      "\u001b[1;32mC:\\ProgramData\\Anaconda3\\lib\\site-packages\\pandas\\core\\groupby\\groupby.py\u001b[0m in \u001b[0;36m_make_wrapper\u001b[1;34m(self, name)\u001b[0m\n\u001b[0;32m    797\u001b[0m                    \"using the 'apply' method\".format(kind, name,\n\u001b[0;32m    798\u001b[0m                                                      type(self).__name__))\n\u001b[1;32m--> 799\u001b[1;33m             \u001b[1;32mraise\u001b[0m \u001b[0mAttributeError\u001b[0m\u001b[1;33m(\u001b[0m\u001b[0mmsg\u001b[0m\u001b[1;33m)\u001b[0m\u001b[1;33m\u001b[0m\u001b[0m\n\u001b[0m\u001b[0;32m    800\u001b[0m \u001b[1;33m\u001b[0m\u001b[0m\n\u001b[0;32m    801\u001b[0m         \u001b[0mself\u001b[0m\u001b[1;33m.\u001b[0m\u001b[0m_set_group_selection\u001b[0m\u001b[1;33m(\u001b[0m\u001b[1;33m)\u001b[0m\u001b[1;33m\u001b[0m\u001b[0m\n",
      "\u001b[1;31mAttributeError\u001b[0m: Cannot access attribute 'index' of 'DataFrameGroupBy' objects, try using the 'apply' method"
     ]
    }
   ],
   "source": [
    "aa.colum"
   ]
  },
  {
   "cell_type": "code",
   "execution_count": 29,
   "metadata": {
    "scrolled": true
   },
   "outputs": [
    {
     "data": {
      "text/plain": [
       "Day_of_year\n",
       "0.000000    13180.086889\n",
       "0.002786    11628.317333\n",
       "0.019499    13624.038000\n",
       "0.022284    12730.946000\n",
       "0.038997    14669.180444\n",
       "0.041783    13864.207111\n",
       "0.058496    15126.391778\n",
       "0.061281    14499.738000\n",
       "0.077994    18216.596444\n",
       "0.080780    17613.400667\n",
       "0.083565    19596.298000\n",
       "0.097493    25121.113333\n",
       "0.100279    26941.714444\n",
       "0.103064    32381.831111\n",
       "0.116992    39540.355778\n",
       "0.119777    32470.996444\n",
       "0.122563    24850.163556\n",
       "0.136490    15634.010667\n",
       "0.139276    13765.470444\n",
       "0.142061    15142.035111\n",
       "0.153203    17540.764222\n",
       "0.158774    15201.214222\n",
       "0.161560    16947.834889\n",
       "0.172702    17567.973111\n",
       "0.178273    15638.433111\n",
       "0.181058    17864.154000\n",
       "0.192201    18882.558222\n",
       "0.197772    16074.316444\n",
       "0.200557    18815.254889\n",
       "0.211699    20093.242000\n",
       "                ...     \n",
       "0.757660    19008.062889\n",
       "0.763231    19210.683778\n",
       "0.766017    19767.443111\n",
       "0.777159    20815.728444\n",
       "0.782730    20563.906889\n",
       "0.785515    21815.235333\n",
       "0.796657    23048.499111\n",
       "0.802228    23839.922222\n",
       "0.805014    25126.886889\n",
       "0.816156    28781.779778\n",
       "0.821727    33350.987111\n",
       "0.824513    39135.120000\n",
       "0.841226    36959.708667\n",
       "0.844011    29877.408444\n",
       "0.860724    15196.333778\n",
       "0.863510    14175.523111\n",
       "0.880223    15523.421556\n",
       "0.883008    15141.867556\n",
       "0.899721    16784.122889\n",
       "0.902507    16267.179333\n",
       "0.919220    20895.282444\n",
       "0.922006    20910.548889\n",
       "0.938719    28540.342667\n",
       "0.941504    28622.010444\n",
       "0.958217    39784.668444\n",
       "0.961003    39749.864889\n",
       "0.977716    49563.195556\n",
       "0.980501    49607.871333\n",
       "0.997214    19837.811111\n",
       "1.000000    13803.890889\n",
       "Name: Weekly_Sales, Length: 143, dtype: float64"
      ]
     },
     "execution_count": 29,
     "metadata": {},
     "output_type": "execute_result"
    }
   ],
   "source": [
    "mean_sale"
   ]
  },
  {
   "cell_type": "code",
   "execution_count": 36,
   "metadata": {},
   "outputs": [
    {
     "name": "stderr",
     "output_type": "stream",
     "text": [
      "C:\\ProgramData\\Anaconda3\\lib\\site-packages\\ipykernel_launcher.py:2: SettingWithCopyWarning: \n",
      "A value is trying to be set on a copy of a slice from a DataFrame\n",
      "\n",
      "See the caveats in the documentation: http://pandas.pydata.org/pandas-docs/stable/indexing.html#indexing-view-versus-copy\n",
      "  \n"
     ]
    },
    {
     "data": {
      "text/plain": [
       "[<matplotlib.lines.Line2D at 0x1d0072cf588>]"
      ]
     },
     "execution_count": 36,
     "metadata": {},
     "output_type": "execute_result"
    },
    {
     "data": {
      "image/png": "[encoded data removed]",
      "text/plain": [
       "<Figure size 432x288 with 1 Axes>"
      ]
     },
     "metadata": {},
     "output_type": "display_data"
    }
   ],
   "source": []
  }
 ],
 "metadata": {
  "kernelspec": {
   "display_name": "Python 3",
   "language": "python",
   "name": "python3"
  },
  "language_info": {
   "codemirror_mode": {
    "name": "ipython",
    "version": 3
   },
   "file_extension": ".py",
   "mimetype": "text/x-python",
   "name": "python",
   "nbconvert_exporter": "python",
   "pygments_lexer": "ipython3",
   "version": "3.6.5"
  }
 },
 "nbformat": 4,
 "nbformat_minor": 2
}
