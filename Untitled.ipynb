{
 "cells": [
  {
   "cell_type": "code",
   "execution_count": 1,
   "metadata": {},
   "outputs": [
    {
     "name": "stderr",
     "output_type": "stream",
     "text": [
      "C:\\ProgramData\\Anaconda3\\lib\\site-packages\\h5py\\__init__.py:36: FutureWarning: Conversion of the second argument of issubdtype from `float` to `np.floating` is deprecated. In future, it will be treated as `np.float64 == np.dtype(float).type`.\n",
      "  from ._conv import register_converters as _register_converters\n",
      "Using TensorFlow backend.\n"
     ]
    }
   ],
   "source": [
    "import pandas as pd\n",
    "import numpy as np\n",
    "from collections import Counter\n",
    "import matplotlib.pyplot as plt\n",
    "from sklearn import preprocessing\n",
    "from keras import layers, models, optimizers"
   ]
  },
  {
   "cell_type": "code",
   "execution_count": 2,
   "metadata": {},
   "outputs": [],
   "source": [
    "def nanscaler(seri):\n",
    "    temp_list = []\n",
    "    series_mean = seri.mean()\n",
    "    series_std = seri.std()\n",
    "    for i in seri:\n",
    "        if np.isnan(i):\n",
    "            temp_list.append(0)\n",
    "        else :\n",
    "            temp_list.append((i - series_mean)/series_std)\n",
    "    return series_mean, series_std, temp_list \n",
    "\n",
    "def nanscaler_test(s_mean,s_std,seri):\n",
    "    temp_list = []\n",
    "    for i in seri:\n",
    "        if np.isnan(i):\n",
    "            temp_list.append(0)\n",
    "        else :\n",
    "            temp_list.append((i - s_mean)/s_std)\n",
    "    return temp_list"
   ]
  },
  {
   "cell_type": "code",
   "execution_count": 3,
   "metadata": {},
   "outputs": [],
   "source": [
    "df = pd.read_csv('trainMerged.csv')\n",
    "test_df = pd.read_csv('testMerged.csv')\n",
    "df['Date'] = pd.to_datetime(df.Date)\n",
    "test_df['Date'] = pd.to_datetime(test_df.Date)\n",
    "df['IsHoliday'] = df.IsHoliday.astype('int')\n",
    "test_df['IsHoliday'] = test_df.IsHoliday.astype('int')\n",
    "\n",
    "for i in ['MarkDown1','MarkDown2','MarkDown3','MarkDown4','MarkDown5']:\n",
    "    s_mean,s_std, df[i] = nanscaler(df[i])\n",
    "    test_df[i] = nanscaler_test(s_mean,s_std,test_df[i])"
   ]
  },
  {
   "cell_type": "code",
   "execution_count": 4,
   "metadata": {},
   "outputs": [],
   "source": [
    "df['Day_of_year'] = [i.dayofyear for i in df.Date]\n",
    "test_df['Day_of_year'] = [i.dayofyear for i in test_df.Date]\n",
    "df['Year'] = [i.year for i in df.Date]"
   ]
  },
  {
   "cell_type": "code",
   "execution_count": 5,
   "metadata": {},
   "outputs": [],
   "source": [
    "doy = []\n",
    "for i,d in enumerate(df.Day_of_year):\n",
    "    j = d\n",
    "    if df['Year'][i] == 2012:\n",
    "        if d > 60:\n",
    "            j -= 1\n",
    "    doy.append(j)\n",
    "df['Day_of_year'] = doy\n",
    "df.drop(['Year'],axis=1,inplace=True)\n",
    "tempp = test_df.Date - pd.to_datetime('2010-01-01')\n",
    "test_df['total_days'] = [i.total_seconds()/86400 for i in tempp]\n",
    "tempp = df.Date - pd.to_datetime('2010-01-01')\n",
    "df['total_days'] = [i.total_seconds()/86400 for i in tempp]\n",
    "test_df['CPI'] = test_df.groupby('Store')['CPI'].transform(lambda x : x.fillna(x.mean()))\n",
    "test_df['Unemployment'] = test_df.groupby('Store')['Unemployment'].transform(lambda x : x.fillna(x.mean()))"
   ]
  },
  {
   "cell_type": "code",
   "execution_count": 6,
   "metadata": {},
   "outputs": [],
   "source": [
    "#['Store', 'Date', 'IsHoliday', 'Dept', 'Weekly_Sales', 'Type', 'Size',\n",
    "#'Temperature', 'Fuel_Price', 'MarkDown1', 'MarkDown2', 'MarkDown3',\n",
    "#'MarkDown4', 'MarkDown5', 'CPI', 'Unemployment', 'Day_of_year']\n",
    "num_df = df[['Size', 'Temperature', 'Fuel_Price','CPI' ,'Unemployment']]\n",
    "num_df_test = test_df[['Size', 'Temperature', 'Fuel_Price','CPI' ,'Unemployment']]\n",
    "cat_df = pd.get_dummies(df[['Store','Dept','Type']].astype('str'))\n",
    "cat_df_test = pd.get_dummies(test_df[['Store','Dept','Type']].astype('str'))\n",
    "num_df = pd.DataFrame(preprocessing.normalize(num_df),columns=num_df.columns)\n",
    "num_df_test = pd.DataFrame(preprocessing.normalize(num_df_test),columns=num_df_test.columns)"
   ]
  },
  {
   "cell_type": "code",
   "execution_count": 15,
   "metadata": {},
   "outputs": [],
   "source": [
    "second_df = df['Day_of_year'].copy()\n",
    "second_test_df = test_df['Day_of_year'].copy()\n",
    "second_df = [int(round(i/7)) for i in second_df]\n",
    "df['round_days'] = second_df.copy()\n",
    "second_test_df = [int(round(i/7)) for i in second_test_df]\n",
    "second_df = pd.get_dummies(second_df)\n",
    "second_test_df = pd.get_dummies(second_test_df)\n",
    "first_df = df['Day_of_year']/365\n",
    "first_test_df = test_df['Day_of_year']/365\n",
    "tr_MarkDowns = df[['MarkDown1','MarkDown2','MarkDown3','MarkDown4','MarkDown5']]\n",
    "ts_MarkDowns = test_df[['MarkDown1','MarkDown2','MarkDown3','MarkDown4','MarkDown5']]"
   ]
  },
  {
   "cell_type": "code",
   "execution_count": 8,
   "metadata": {},
   "outputs": [],
   "source": [
    "df_1 = pd.concat([num_df,cat_df,first_df,tr_MarkDowns,df['Weekly_Sales']],axis= 1)\n",
    "test_1 = pd.concat([num_df_test,cat_df_test,first_test_df,ts_MarkDowns], axis=1)\n",
    "df_2 = pd.concat([num_df,cat_df,second_df,tr_MarkDowns,df['Weekly_Sales']], axis=1)\n",
    "test_2 = pd.concat([num_df_test,cat_df_test,second_test_df,ts_MarkDowns] ,axis=1)\n",
    "\n",
    "miss_cols = list(set(df_2.columns) - set(test_2.columns))\n",
    "del(miss_cols[-2])\n",
    "for col in miss_cols:\n",
    "    test_2[col] = 0"
   ]
  },
  {
   "cell_type": "code",
   "execution_count": 9,
   "metadata": {},
   "outputs": [],
   "source": [
    "temp_cols = list(df_2.columns)\n",
    "del(temp_cols[-1])\n",
    "len(temp_cols)\n",
    "test_2 = test_2[temp_cols]"
   ]
  },
  {
   "cell_type": "code",
   "execution_count": 10,
   "metadata": {},
   "outputs": [],
   "source": [
    "aa1 = df_1.values\n",
    "aa2 = df_2.values\n",
    "# np.random.shuffle(aa1)\n",
    "# np.random.shuffle(aa2)\n",
    "tr_1 = aa1[:400000,:-1]\n",
    "lbl_1 = aa1[:400000,-1]\n",
    "tr_2 = aa2[:400000,:-1]\n",
    "lbl_2 = aa2[:400000,-1]\n",
    "val_1 = aa1[400000:,:-1]\n",
    "val_lbl_1 = aa1[400000:,-1]\n",
    "val_2 = aa2[400000:,:-1]\n",
    "val_lbl_2 = aa2[400000:,-1]"
   ]
  },
  {
   "cell_type": "code",
   "execution_count": 11,
   "metadata": {},
   "outputs": [],
   "source": [
    "model1 = models.Sequential()\n",
    "model1.add(layers.Dense(256,activation='relu',input_shape = (140,)))\n",
    "model1.add(layers.Dense(128, activation='relu'))\n",
    "model1.add(layers.Dense(64,activation= 'relu'))\n",
    "model1.add(layers.Dense(1))\n",
    "\n",
    "model2 = models.Sequential()\n",
    "model2.add(layers.Dense(256,activation='relu',input_shape = (191,)))\n",
    "model2.add(layers.Dense(128, activation='relu'))\n",
    "model2.add(layers.Dense(64,activation= 'relu'))\n",
    "model2.add(layers.Dense(1))\n",
    "\n",
    "model1.compile(loss='mse', optimizer='Adam', metrics=['acc'])\n",
    "model2.compile(loss='mse', optimizer='Adam', metrics=['acc'])"
   ]
  },
  {
   "cell_type": "code",
   "execution_count": 12,
   "metadata": {},
   "outputs": [],
   "source": [
    "# model1.fit(tr_1,lbl_1,epochs= 50, validation_data=[val_1,val_lbl_1])"
   ]
  },
  {
   "cell_type": "code",
   "execution_count": 17,
   "metadata": {},
   "outputs": [],
   "source": [
    "# df.columns\n",
    "aa = df.groupby('Store')[['round_days','Dept','Weekly_Sales']]"
   ]
  },
  {
   "cell_type": "code",
   "execution_count": 72,
   "metadata": {},
   "outputs": [
    {
     "data": {
      "image/png": "[encoded data removed]",
      "text/plain": [
       "<Figure size 432x288 with 1 Axes>"
      ]
     },
     "metadata": {},
     "output_type": "display_data"
    }
   ],
   "source": [
    "stores = df.Store.unique()\n",
    "dept_no = 7\n",
    "for store_no in stores:\n",
    "    bb = aa.get_group(store_no)\n",
    "    bb = bb[bb.Dept==dept_no]\n",
    "    bb.index = range(len(bb))\n",
    "    bb = np.split(bb, bb[bb.round_days.diff()<0].index, axis = 0)\n",
    "    for i in bb:\n",
    "        plt.plot(i.round_days,i.Weekly_Sales/(i.Weekly_Sales.mean()))"
   ]
  },
  {
   "cell_type": "code",
   "execution_count": 65,
   "metadata": {},
   "outputs": [],
   "source": [
    "plt.show()"
   ]
  }
 ],
 "metadata": {
  "kernelspec": {
   "display_name": "Python 3",
   "language": "python",
   "name": "python3"
  },
  "language_info": {
   "codemirror_mode": {
    "name": "ipython",
    "version": 3
   },
   "file_extension": ".py",
   "mimetype": "text/x-python",
   "name": "python",
   "nbconvert_exporter": "python",
   "pygments_lexer": "ipython3",
   "version": "3.6.5"
  }
 },
 "nbformat": 4,
 "nbformat_minor": 2
}
